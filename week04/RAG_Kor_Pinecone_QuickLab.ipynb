{
 "cells": [
  {
   "cell_type": "markdown",
   "id": "c2a35958",
   "metadata": {},
   "source": [
    "\n",
    "# 🇰🇷 RAG Quick Lab (40‑min) — Pinecone + KorQuAD 2.0 (Beginner)\n",
    "\n",
    "이 노트북은 **한국어 RAG** 실습을 위해 준비되었습니다. (대상: RAG 처음인 대학원생)\n",
    "- **임베딩**: `sentence-transformers/paraphrase-multilingual-MiniLM-L12-v2` (384-dim, 빠르고 가벼움)\n",
    "- **데이터셋**: KorQuAD 2.0 (일부 샘플) — 표·리스트가 포함된 한국어 위키 기반 MRC 데이터\n",
    "- **Vector DB**: Pinecone (Serverless Index)\n",
    "\n",
    "> 실행 전 준비물\n",
    "> 1. Python ≥ 3.9 (권장 3.10+)\n",
    "> 2. (선택) 가상환경 생성 후 활성화\n",
    "> 3. **Pinecone** API Key 발급 → 환경변수 `PINECONE_API_KEY` 지정\n",
    "\n",
    "참고:\n",
    "- KorQuAD 2.0: https://korquad.github.io/\n",
    "- Pinecone Quickstart: https://docs.pinecone.io/guides/indexes/create-an-index\n",
    "- RAG 평가(RAGAS): https://docs.ragas.io/  (이번 랩에서는 간단 평가만)\n"
   ]
  },
  {
   "cell_type": "markdown",
   "id": "3e8611d1",
   "metadata": {},
   "source": [
    "## 0. Install packages"
   ]
  },
  {
   "cell_type": "code",
   "execution_count": 22,
   "id": "7dde3290",
   "metadata": {},
   "outputs": [
    {
     "name": "stderr",
     "output_type": "stream",
     "text": [
      "huggingface/tokenizers: The current process just got forked, after parallelism has already been used. Disabling parallelism to avoid deadlocks...\n",
      "To disable this warning, you can either:\n",
      "\t- Avoid using `tokenizers` before the fork if possible\n",
      "\t- Explicitly set the environment variable TOKENIZERS_PARALLELISM=(true | false)\n"
     ]
    },
    {
     "name": "stdout",
     "output_type": "stream",
     "text": [
      "\u001b[31mERROR: pip's dependency resolver does not currently take into account all the packages that are installed. This behaviour is the source of the following dependency conflicts.\n",
      "ragas 0.3.5 requires datasets>=4.0.0, but you have datasets 2.21.0 which is incompatible.\u001b[0m\u001b[31m\n",
      "\u001b[0m"
     ]
    },
    {
     "name": "stderr",
     "output_type": "stream",
     "text": [
      "huggingface/tokenizers: The current process just got forked, after parallelism has already been used. Disabling parallelism to avoid deadlocks...\n",
      "To disable this warning, you can either:\n",
      "\t- Avoid using `tokenizers` before the fork if possible\n",
      "\t- Explicitly set the environment variable TOKENIZERS_PARALLELISM=(true | false)\n"
     ]
    }
   ],
   "source": [
    "\n",
    "# (Colab or local) — 인터넷 연결 필요\n",
    "!pip -q install \"pinecone-client>=5,<6\" \"sentence-transformers>=2.4,<3\" \"datasets>=2.19,<3\" \"tqdm>=4.66,<5\" \"python-dotenv>=1.0,<2\"\n",
    "# RAG 평가까지 하려면 (선택)\n",
    "!pip -q install \"ragas>=0.1.14\" \"pandas>=2.1,<3\"\n"
   ]
  },
  {
   "cell_type": "markdown",
   "id": "bb49afc5",
   "metadata": {},
   "source": [
    "## 1. 환경 변수 / 라이브러리 로드"
   ]
  },
  {
   "cell_type": "code",
   "execution_count": 23,
   "id": "af29f374",
   "metadata": {},
   "outputs": [
    {
     "name": "stdout",
     "output_type": "stream",
     "text": [
      "✅ 환경 변수 로드 완료\n"
     ]
    }
   ],
   "source": [
    "\n",
    "import os, json, uuid, time, math, random, re\n",
    "from dataclasses import dataclass\n",
    "from typing import List, Dict, Any\n",
    "\n",
    "from tqdm import tqdm\n",
    "from datasets import load_dataset\n",
    "from sentence_transformers import SentenceTransformer\n",
    "from dotenv import load_dotenv\n",
    "\n",
    "# .env에 PINECONE_API_KEY=... 넣어두면 자동 로드\n",
    "load_dotenv()\n",
    "PINECONE_API_KEY = os.getenv(\"PINECONE_API_KEY\")\n",
    "\n",
    "if not PINECONE_API_KEY:\n",
    "    raise RuntimeError(\"환경변수 PINECONE_API_KEY 가 없습니다. Pinecone 콘솔에서 발급 후 설정하세요. (export PINECONE_API_KEY=...)\")\n",
    "\n",
    "print(\"✅ 환경 변수 로드 완료\")\n"
   ]
  },
  {
   "cell_type": "markdown",
   "id": "b5c82bd0",
   "metadata": {},
   "source": [
    "## 2. Pinecone 초기화 및 인덱스 생성 (Serverless)"
   ]
  },
  {
   "cell_type": "code",
   "execution_count": 27,
   "id": "12015d5e",
   "metadata": {},
   "outputs": [
    {
     "name": "stdout",
     "output_type": "stream",
     "text": [
      "⏳ Creating index: rag-korquad-demo\n",
      "{'dimension': 384,\n",
      " 'index_fullness': 0.0,\n",
      " 'namespaces': {},\n",
      " 'total_vector_count': 0}\n"
     ]
    }
   ],
   "source": [
    "\n",
    "from pinecone import Pinecone, ServerlessSpec\n",
    "\n",
    "pc = Pinecone(api_key=PINECONE_API_KEY)\n",
    "\n",
    "# 장소는 문서 기준 예시입니다. (요금/리전은 계정 콘솔에서 확인)\n",
    "CLOUD = \"aws\"          # 또는 \"gcp\",\"azure\" (계정/요금제 확인)\n",
    "REGION = \"us-east-1\"   # 예: \"us-east-1\", \"us-west-2\", \"eu-west-1\", \"us-east-1-aws\" 등 콘솔 권장 리전\n",
    "INDEX_NAME = \"rag-korquad-demo\"\n",
    "\n",
    "EMBED_DIM = 384  # MiniLM-L12-v2 임베딩 차원\n",
    "METRIC = \"cosine\"\n",
    "\n",
    "# 인덱스가 없으면 생성\n",
    "if INDEX_NAME not in [idx[\"name\"] for idx in pc.list_indexes()]:\n",
    "    print(f\"⏳ Creating index: {INDEX_NAME}\")\n",
    "    pc.create_index(\n",
    "        name=INDEX_NAME,\n",
    "        dimension=EMBED_DIM,\n",
    "        metric=METRIC,\n",
    "        spec=ServerlessSpec(cloud=CLOUD, region=REGION),\n",
    "        # Serverless는 pod 타입 미지정\n",
    "    )\n",
    "    # 인덱스 준비 대기 (간단 대기)\n",
    "    time.sleep(10)\n",
    "else:\n",
    "    print(f\"ℹ️ Index already exists: {INDEX_NAME}\")\n",
    "\n",
    "index = pc.Index(INDEX_NAME)\n",
    "print(index.describe_index_stats())\n"
   ]
  },
  {
   "cell_type": "markdown",
   "id": "26a39b4a",
   "metadata": {},
   "source": [
    "## 3. KorQuAD 2.0 샘플 로드 & 청크 생성"
   ]
  },
  {
   "cell_type": "markdown",
   "id": "83d5f019",
   "metadata": {},
   "source": [
    "\n",
    "- 본 실습은 **Hugging Face Datasets**의 커뮤니티 업로드된 *KorQuAD 2.0* 미러를 사용합니다.\n",
    "- 네트워크 환경에 따라 로딩이 지연될 수 있습니다.\n",
    "- 표/리스트가 포함된 긴 문서 특성상, **문단 단위 청크 + 살짝 겹침** 전략을 사용합니다.\n"
   ]
  },
  {
   "cell_type": "code",
   "execution_count": 25,
   "id": "26f5a737",
   "metadata": {},
   "outputs": [
    {
     "name": "stdout",
     "output_type": "stream",
     "text": [
      "{'question': '유럽찌르레기의 울음 소리와 비슷한 조류는 무엇인가?', 'answer': '수탉', 'text': '## 질문: 유럽찌르레기의 울음 소리와 비슷한 조류는 무엇인가?\\n## 답변: 수탉\\n\\n', 'context': '## 질문: 유럽찌르레기의 울음 소리와 비슷한 조류는 무엇인가?\\n## 답변: 수탉', 'raw_text': '## 질문: 유럽찌르레기의 울음 소리와 비슷한 조류는 무엇인가?\\n## 답변: 수탉\\n\\n'}\n"
     ]
    }
   ],
   "source": [
    "import re\n",
    "from datasets import load_dataset\n",
    "\n",
    "DATASET_REPO = \"leeseeun/KorQuAD_2.0\"\n",
    "raw = load_dataset(DATASET_REPO, split=\"train\")\n",
    "\n",
    "Q_PAT = re.compile(r\"^[#\\s]*질문\\s*:\\s*(.+?)\\s*$\", re.IGNORECASE | re.MULTILINE)\n",
    "A_PAT = re.compile(r\"^[#\\s]*답변\\s*:\\s*(.+?)\\s*$\", re.IGNORECASE | re.MULTILINE)\n",
    "\n",
    "def _extract_qna_from_text(text: str):\n",
    "    q = a = \"\"\n",
    "    if not text: \n",
    "        return q, a\n",
    "    mq = Q_PAT.search(text)\n",
    "    ma = A_PAT.search(text)\n",
    "    if mq: q = mq.group(1).strip()\n",
    "    if ma: a = ma.group(1).strip()\n",
    "    return q, a\n",
    "\n",
    "def normalize_sample(x):\n",
    "    # 1) 기본 키\n",
    "    q = x.get(\"question\") or x.get(\"Question\") or x.get(\"questions\") or \"\"\n",
    "    ctx = x.get(\"context\")  or x.get(\"Context\")  or x.get(\"article\")   or \"\"\n",
    "    ans = \"\"\n",
    "    txt = x.get(\"text\") or \"\"\n",
    "\n",
    "    # 2) KorQuAD answers dict\n",
    "    answers = x.get(\"answers\")\n",
    "    if isinstance(answers, dict):\n",
    "        ans_list = answers.get(\"text\", [])\n",
    "        if isinstance(ans_list, list) and ans_list:\n",
    "            ans = (ans_list[0] or \"\").strip()\n",
    "\n",
    "    # 3) ★ 컨텍스트 폴백: context가 비어 있으면 text에서 파싱 (질문 유무와 무관)\n",
    "    if not ctx and txt:\n",
    "        q2, a2 = _extract_qna_from_text(txt)\n",
    "        # 질문/정답이 비어있다면 보조로 채워줌\n",
    "        if not q and q2: \n",
    "            q = q2\n",
    "        if not ans and a2:\n",
    "            ans = a2\n",
    "\n",
    "        # RAG용 컨텍스트: Q/A 라인을 제거한 나머지 전체\n",
    "        ctx_candidate = re.sub(r\"^[#\\s]*질문\\s*:.+$\", \"\", txt, flags=re.MULTILINE)\n",
    "        ctx_candidate = re.sub(r\"^[#\\s]*답변\\s*:.+$\", \"\", ctx_candidate, flags=re.MULTILINE).strip()\n",
    "\n",
    "        # 만약 제거하고 나니 진짜로 남는 게 없다면, 최후의 수단으로 txt 전체를 사용\n",
    "        ctx = ctx_candidate if ctx_candidate else txt\n",
    "\n",
    "    # 방어적 정리\n",
    "    q   = str(q or \"\").strip()\n",
    "    ctx = str(ctx or \"\").strip()\n",
    "    ans = str(ans or \"\").strip()\n",
    "    return {\"question\": q, \"context\": ctx, \"answer\": ans, \"raw_text\": txt}\n",
    "\n",
    "dataset = raw.map(normalize_sample)\n",
    "dataset = dataset.shuffle(seed=42).select(range(min(300, len(dataset))))\n",
    "print(dataset[0])\n"
   ]
  },
  {
   "cell_type": "markdown",
   "id": "55fc6da7",
   "metadata": {},
   "source": [
    "### 3‑1. 간단 청크 함수 (문단 기반 + 겹침)"
   ]
  },
  {
   "cell_type": "code",
   "execution_count": 26,
   "id": "0ea7dd8c",
   "metadata": {},
   "outputs": [
    {
     "name": "stdout",
     "output_type": "stream",
     "text": [
      "len(corpus) = 301 | skipped(no context) = 0\n",
      "preview: doc-0-chunk-0 ## 질문: 유럽찌르레기의 울음 소리와 비슷한 조류는 무엇인가?\n",
      "## 답변: 수탉\n"
     ]
    }
   ],
   "source": [
    "import re\n",
    "\n",
    "def paragraph_chunk(text: str, max_chars=800, overlap_chars=120):\n",
    "    if not text:\n",
    "        return []\n",
    "    paras = [p.strip() for p in re.split(r'(?:\\r?\\n){2,}', text) if p.strip()]\n",
    "    if not paras:\n",
    "        paras = [text.strip()]\n",
    "    chunks = []\n",
    "    for p in paras:\n",
    "        if len(p) <= max_chars:\n",
    "            chunks.append(p)\n",
    "        else:\n",
    "            start = 0\n",
    "            while start < len(p):\n",
    "                end = min(start + max_chars, len(p))\n",
    "                chunks.append(p[start:end])\n",
    "                if end >= len(p):\n",
    "                    break\n",
    "                start = max(0, end - overlap_chars)\n",
    "    return chunks\n",
    "\n",
    "corpus = []\n",
    "skipped = 0\n",
    "for i, row in enumerate(dataset):\n",
    "    ctx = row[\"context\"]\n",
    "    if not ctx:\n",
    "        skipped += 1\n",
    "        continue\n",
    "    for j, ch in enumerate(paragraph_chunk(ctx)):\n",
    "        corpus.append({\n",
    "            \"id\": f\"doc-{i}-chunk-{j}\",\n",
    "            \"text\": ch,\n",
    "            \"meta\": {\n",
    "                \"source\": \"KorQuAD2.0-mirror\",\n",
    "                \"doc_id\": f\"doc-{i}\",\n",
    "                \"chunk_id\": j,\n",
    "                \"language\": \"ko\",\n",
    "                \"has_true_context\": bool(row[\"raw_text\"] and row[\"context\"] != \"\")\n",
    "            }\n",
    "        })\n",
    "\n",
    "print(\"len(corpus) =\", len(corpus), \"| skipped(no context) =\", skipped)\n",
    "if corpus:\n",
    "    print(\"preview:\", corpus[0][\"id\"], corpus[0][\"text\"][:120])\n"
   ]
  },
  {
   "cell_type": "markdown",
   "id": "8dbca139",
   "metadata": {},
   "source": [
    "## 4. 임베딩 생성 & Pinecone 업서트"
   ]
  },
  {
   "cell_type": "code",
   "execution_count": 28,
   "id": "2626b7e3",
   "metadata": {},
   "outputs": [
    {
     "name": "stderr",
     "output_type": "stream",
     "text": [
      "100%|██████████| 5/5 [00:04<00:00,  1.21it/s]"
     ]
    },
    {
     "name": "stdout",
     "output_type": "stream",
     "text": [
      "✅ Upsert 완료\n"
     ]
    },
    {
     "name": "stderr",
     "output_type": "stream",
     "text": [
      "\n"
     ]
    }
   ],
   "source": [
    "from tqdm import tqdm\n",
    "import math\n",
    "import itertools\n",
    "from sentence_transformers import SentenceTransformer\n",
    "\n",
    "model = SentenceTransformer(\"sentence-transformers/paraphrase-multilingual-MiniLM-L12-v2\")\n",
    "\n",
    "def batched(iterable, n=64):\n",
    "    it = iter(iterable)\n",
    "    while True:\n",
    "        batch = list(itertools.islice(it, n))\n",
    "        if not batch:\n",
    "            break\n",
    "        yield batch\n",
    "\n",
    "if not corpus:\n",
    "    raise RuntimeError(\"corpus가 비어 있습니다. 앞 단계(정규화/청크)에서 ctx 폴백이 제대로 되었는지 확인하세요.\")\n",
    "\n",
    "for batch in tqdm(batched(corpus, 64), total=math.ceil(len(corpus)/64)):\n",
    "    texts = [b[\"text\"] for b in batch]\n",
    "    vecs = model.encode(texts, normalize_embeddings=True, show_progress_bar=False)\n",
    "    items = []\n",
    "    for b, v in zip(batch, vecs):\n",
    "        items.append({\n",
    "            \"id\": b[\"id\"],\n",
    "            \"values\": v.tolist(),\n",
    "            \"metadata\": {**b[\"meta\"], \"preview\": b[\"text\"][:200]}\n",
    "        })\n",
    "    # ★ v5: vectors= 로 전달\n",
    "    index.upsert(vectors=items)  # (선택) namespace=\"default\"\n",
    "print(\"✅ Upsert 완료\")\n"
   ]
  },
  {
   "cell_type": "markdown",
   "id": "58244647",
   "metadata": {},
   "source": [
    "## 5. 검색 테스트 — 한국어 질문으로 Top‑k 보기"
   ]
  },
  {
   "cell_type": "code",
   "execution_count": 29,
   "id": "3335629d",
   "metadata": {},
   "outputs": [
    {
     "name": "stdout",
     "output_type": "stream",
     "text": [
      "\n",
      "### Q: 주민등록표 초본 발급 수수료는 얼마인가?\n",
      " 1. score=0.465 | id=doc-189-chunk-0 | ## 질문: 2010년에 남태령역에서 승차한 하루 평균 인원은 몇 명일까?\n",
      "## 답변: 1,316...\n",
      " 2. score=0.455 | id=doc-287-chunk-0 | ## 질문: 2005년까지만 해도 이미 얼마만큼의 자금이 들었습니까?\n",
      "## 답변: 130여억원...\n",
      " 3. score=0.431 | id=doc-261-chunk-0 | ## 질문: 2004년부터 2009년까지 고료카쿠 역의 연도별 화물량은 어느 정도였을까?\n",
      "## 답변:  연도 보냄 받음 합계 비고 2004년 199,000 174...\n",
      " 4. score=0.416 | id=doc-60-chunk-0 | ## 질문: 이세이시바시역에서 승차하는 하루 평균 인원수가 73명인 해는?\n",
      "## 답변: 2000년...\n",
      " 5. score=0.402 | id=doc-41-chunk-0 | ## 질문: 로고 금액이 얼마야?\n",
      "## 답변: 250만 유로...\n",
      "\n",
      "### Q: 위성항법장치(GPS)의 원리는 무엇인가?\n",
      " 1. score=0.386 | id=doc-242-chunk-0 | ## 질문: 케플러 관측선을 통해 알게 된 사실들에는 어떠한 것들이 있습니까?\n",
      "## 답변: 2010년 6월 케플러 관측선과 통신연결이 시작된 지 43일이 지난 시...\n",
      " 2. score=0.370 | id=doc-104-chunk-0 | ## 질문: 벤구리온 국제공항을 운영하는 곳은 어디야?\n",
      "## 답변: 이스라엘 공항 공사...\n",
      " 3. score=0.361 | id=doc-153-chunk-0 | ## 질문: 무기중에서 고출력 라스건의 특징에는 어떤것들이 있을까?\n",
      "## 답변: 강력한 대구경 탄환을 사용한다. 또한 총검을 붙여놨기 때문에 근접전에서 상당한 위...\n",
      " 4. score=0.340 | id=doc-193-chunk-0 | ## 질문: 지하철 2호선 한양대역과 교내 본관 앞 연결통로의 이름은 무엇인가? \n",
      "## 답변: 애지문...\n",
      " 5. score=0.332 | id=doc-94-chunk-0 | ## 질문: TMT 사가 에이 위일 호를 어떠한 배로 개조했는가?\n",
      "## 답변: 기름제거선...\n",
      "\n",
      "### Q: 대한민국 국회의 역할은 무엇인가?\n",
      " 1. score=0.588 | id=doc-173-chunk-0 | ## 질문: 2005년 당시 박근혜가 소속한 당은?\n",
      "## 답변: 한나라당...\n",
      " 2. score=0.567 | id=doc-232-chunk-0 | ## 질문: 계약 만료 후의 이득에 대한 보상청구를 규정하고 있는 조항은 몇항인가?\n",
      "## 답변: 대한민국 상법 제92조의2 제1항...\n",
      " 3. score=0.557 | id=doc-163-chunk-0 | ## 질문: 충청북도청에 소속된 공직과 관련이 있는 단체 중 이름이 가장 짧은 것은 무엇인가?\n",
      "## 답변: 충북학사...\n",
      " 4. score=0.544 | id=doc-70-chunk-0 | ## 질문: 김영삼 대통령이 정권을 획득할 수 있었던 사건은?\n",
      "## 답변: 3당 합당...\n",
      " 5. score=0.536 | id=doc-238-chunk-0 | ## 질문: 세월호 참사 당시 현장지휘관의 이름은?\n",
      "## 답변: 김경일...\n"
     ]
    }
   ],
   "source": [
    "\n",
    "TEST_QUERIES = [\n",
    "    \"주민등록표 초본 발급 수수료는 얼마인가?\",\n",
    "    \"위성항법장치(GPS)의 원리는 무엇인가?\",\n",
    "    \"대한민국 국회의 역할은 무엇인가?\",\n",
    "]\n",
    "\n",
    "def search(query: str, top_k=5):\n",
    "    qv = model.encode([query], normalize_embeddings=True)[0].tolist()\n",
    "    res = index.query(vector=qv, top_k=top_k, include_metadata=True)\n",
    "    return res\n",
    "\n",
    "for q in TEST_QUERIES:\n",
    "    print(\"\\n### Q:\", q)\n",
    "    res = search(q, top_k=5)\n",
    "    for i, match in enumerate(res[\"matches\"]):\n",
    "        score = match[\"score\"]\n",
    "        meta = match.get(\"metadata\", {})\n",
    "        preview = meta.get(\"preview\", \"\")\n",
    "        print(f\"{i+1:>2}. score={score:.3f} | id={match['id']} | {preview[:90]}...\")\n"
   ]
  },
  {
   "cell_type": "markdown",
   "id": "bc1702d7",
   "metadata": {},
   "source": [
    "### 5‑1. (옵션) 간이 생성 템플릿 — LLM 없이 스니펫 기반"
   ]
  },
  {
   "cell_type": "code",
   "execution_count": 30,
   "id": "974cca60",
   "metadata": {},
   "outputs": [
    {
     "name": "stdout",
     "output_type": "stream",
     "text": [
      "질문: 주민등록표 초본 발급 수수료는 얼마인가?\n",
      "\n",
      "아래 근거 스니펫을 참고하세요:\n",
      "## 질문: 2010년에 남태령역에서 승차한 하루 평균 인원은 몇 명일까?\n",
      "## 답변: 1,316\n",
      "---\n",
      "## 질문: 2005년까지만 해도 이미 얼마만큼의 자금이 들었습니까?\n",
      "## 답변: 130여억원\n",
      "---\n",
      "## 질문: 2004년부터 2009년까지 고료카쿠 역의 연도별 화물량은 어느 정도였을까?\n",
      "## 답변:  연도 보냄 받음 합계 비고 2004년 199,000 174,000 373,000 2005년 199,000 159,000 358,000 2006년 205,000 156,000 361,000 2007년 187,000 148,000 335,000 2008년 1\n",
      "---\n",
      "## 질문: 이세이시바시역에서 승차하는 하루 평균 인원수가 73명인 해는?\n",
      "## 답변: 2000년\n",
      "---\n",
      "## 질문: 로고 금액이 얼마야?\n",
      "## 답변: 250만 유로\n"
     ]
    }
   ],
   "source": [
    "\n",
    "def answer_with_snippets(query: str, top_k=5):\n",
    "    res = search(query, top_k=top_k)\n",
    "    snippets = [m[\"metadata\"][\"preview\"] for m in res[\"matches\"]]\n",
    "    ans = f\"질문: {query}\\n\\n아래 근거 스니펫을 참고하세요:\\n\" + \"\\n---\\n\".join(snippets)\n",
    "    return ans\n",
    "\n",
    "print(answer_with_snippets(\"주민등록표 초본 발급 수수료는 얼마인가?\"))\n"
   ]
  },
  {
   "cell_type": "markdown",
   "id": "19711f24",
   "metadata": {},
   "source": [
    "## 6. 간단한 Retrieval 품질 측정 (Recall@k)"
   ]
  },
  {
   "cell_type": "markdown",
   "id": "5c12869c",
   "metadata": {},
   "source": [
    "\n",
    "- **아이디어**: KorQuAD 정답 문자열이 포함된 청크가 Top‑k에 들어오면 **정답을 찾은 것**으로 간주\n",
    "- 주의: 실제 평가는 토큰화/정규화, 부분일치, 라벨링 오류 등을 고려해야 합니다. (여기선 간단 버전)\n"
   ]
  },
  {
   "cell_type": "code",
   "execution_count": 31,
   "id": "2f89fbe7",
   "metadata": {},
   "outputs": [
    {
     "name": "stderr",
     "output_type": "stream",
     "text": [
      "100%|██████████| 50/50 [00:13<00:00,  3.64it/s]"
     ]
    },
    {
     "name": "stdout",
     "output_type": "stream",
     "text": [
      "Recall@5 (단순 포함 검사 기준) = 82.00%\n"
     ]
    },
    {
     "name": "stderr",
     "output_type": "stream",
     "text": [
      "\n"
     ]
    }
   ],
   "source": [
    "\n",
    "def recall_at_k(samples, k=5, n_eval=50):\n",
    "    # 무작위 질문 n_eval개 샘플링\n",
    "    samp = random.sample(list(range(len(samples))), min(n_eval, len(samples)))\n",
    "    hits = 0\n",
    "    for i in tqdm(samp):\n",
    "        row = samples[i]\n",
    "        q, ans = row[\"question\"], (row[\"answer\"] or \"\").strip()\n",
    "        if not ans: \n",
    "            continue\n",
    "        res = search(q, top_k=k)\n",
    "        top_texts = [m[\"metadata\"].get(\"preview\",\"\") for m in res[\"matches\"]]\n",
    "        # 매우 단순한 포함 검사\n",
    "        if any(ans in t for t in top_texts):\n",
    "            hits += 1\n",
    "    return hits / max(1, len(samp))\n",
    "\n",
    "r5 = recall_at_k(dataset, k=5, n_eval=50)\n",
    "print(f\"Recall@5 (단순 포함 검사 기준) = {r5:.2%}\")\n"
   ]
  },
  {
   "cell_type": "markdown",
   "id": "996d3cdc",
   "metadata": {},
   "source": [
    "## 7. (선택) 정리 — 인덱스 삭제"
   ]
  },
  {
   "cell_type": "code",
   "execution_count": null,
   "id": "be4a5809",
   "metadata": {},
   "outputs": [],
   "source": [
    "\n",
    "# 실습 리소스 정리를 원할 때만 사용하세요.\n",
    "# pc.delete_index(INDEX_NAME)\n",
    "# print(\"🧹 Index deleted\")\n"
   ]
  },
  {
   "cell_type": "markdown",
   "id": "a4fdede3",
   "metadata": {},
   "source": [
    "\n",
    "---\n",
    "\n",
    "## Appendix — Notes & Links\n",
    "\n",
    "- **KorQuAD 2.0**  \n",
    "  - 홈페이지: https://korquad.github.io/\n",
    "  - (커뮤니티 미러) Hugging Face: 예) https://huggingface.co/datasets/leeseeun/KorQuAD_2.0\n",
    "- **Pinecone**  \n",
    "  - Create Serverless Index: https://docs.pinecone.io/guides/indexes/create-an-index\n",
    "- **평가**  \n",
    "  - RAGAS: https://docs.ragas.io/ (이번 랩은 단순 Recall@k만 예시)\n",
    "\n",
    "권장 과제 아이디어:\n",
    "1) **하이브리드 검색**: BM25(예: `rank-bm25`) 결과와 Cosine을 RRF로 융합해 Top‑k 비교\n",
    "2) **리랭크**: 상위 N 스니펫을 Cross-Encoder로 재점수화 (Cohere Rerank, Sentence-Transformers cross-encoder 등)\n",
    "3) **메타 필터**: `language='ko'`, `source='KorQuAD2.0'` 등 필드로 필터링 → 품질/속도 비교\n",
    "4) **청크 전략 비교**: 청크 크기/겹침을 달리하여 Recall@k 변화를 측정\n"
   ]
  }
 ],
 "metadata": {
  "kernelspec": {
   "display_name": "ajou-llmops",
   "language": "python",
   "name": "python3"
  },
  "language_info": {
   "codemirror_mode": {
    "name": "ipython",
    "version": 3
   },
   "file_extension": ".py",
   "mimetype": "text/x-python",
   "name": "python",
   "nbconvert_exporter": "python",
   "pygments_lexer": "ipython3",
   "version": "3.11.9"
  }
 },
 "nbformat": 4,
 "nbformat_minor": 5
}
